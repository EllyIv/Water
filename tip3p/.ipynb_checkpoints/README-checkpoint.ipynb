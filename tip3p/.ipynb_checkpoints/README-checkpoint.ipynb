{
 "cells": [
  {
   "cell_type": "markdown",
   "metadata": {},
   "source": [
    "# Water,TIP3P"
   ]
  },
  {
   "cell_type": "raw",
   "metadata": {},
   "source": [
    "I Step / packmol"
   ]
  },
  {
   "cell_type": "markdown",
   "metadata": {},
   "source": [
    "--Make xyz file for one molecule (or google)"
   ]
  },
  {
   "cell_type": "markdown",
   "metadata": {},
   "source": [
    "water.xyz"
   ]
  },
  {
   "cell_type": "markdown",
   "metadata": {},
   "source": [
    "--Make input file for packmol"
   ]
  },
  {
   "cell_type": "markdown",
   "metadata": {},
   "source": [
    "inp360.packmol"
   ]
  },
  {
   "cell_type": "markdown",
   "metadata": {},
   "source": [
    "--Run packmol "
   ]
  },
  {
   "cell_type": "code",
   "execution_count": null,
   "metadata": {},
   "outputs": [],
   "source": [
    "packmol < inp360.packmol"
   ]
  },
  {
   "cell_type": "raw",
   "metadata": {},
   "source": [
    "II Step / moltemplate"
   ]
  },
  {
   "cell_type": "markdown",
   "metadata": {},
   "source": [
    "--Make input file for moltemplat"
   ]
  },
  {
   "cell_type": "markdown",
   "metadata": {},
   "source": [
    "pack360.lt (and tip3p.lt)"
   ]
  },
  {
   "cell_type": "markdown",
   "metadata": {},
   "source": [
    "--Run moltemplate "
   ]
  },
  {
   "cell_type": "code",
   "execution_count": null,
   "metadata": {},
   "outputs": [],
   "source": [
    "moltemplate.sh  pack360.lt  -xyz pack360.xyz "
   ]
  },
  {
   "cell_type": "raw",
   "metadata": {},
   "source": [
    "II Step / lammps"
   ]
  },
  {
   "cell_type": "markdown",
   "metadata": {},
   "source": [
    "--Make input file for lammps"
   ]
  },
  {
   "cell_type": "markdown",
   "metadata": {},
   "source": [
    "NPT-tip3p.in"
   ]
  },
  {
   "cell_type": "markdown",
   "metadata": {},
   "source": [
    "--Make submit file for lochness"
   ]
  },
  {
   "cell_type": "markdown",
   "metadata": {},
   "source": [
    "submit.sh"
   ]
  },
  {
   "cell_type": "markdown",
   "metadata": {},
   "source": [
    "Run simulation"
   ]
  },
  {
   "cell_type": "code",
   "execution_count": null,
   "metadata": {},
   "outputs": [],
   "source": [
    " sbatch  submit.sh"
   ]
  }
 ],
 "metadata": {
  "kernelspec": {
   "display_name": "Python 3",
   "language": "python",
   "name": "python3"
  },
  "language_info": {
   "codemirror_mode": {
    "name": "ipython",
    "version": 3
   },
   "file_extension": ".py",
   "mimetype": "text/x-python",
   "name": "python",
   "nbconvert_exporter": "python",
   "pygments_lexer": "ipython3",
   "version": "3.8.3"
  }
 },
 "nbformat": 4,
 "nbformat_minor": 4
}
